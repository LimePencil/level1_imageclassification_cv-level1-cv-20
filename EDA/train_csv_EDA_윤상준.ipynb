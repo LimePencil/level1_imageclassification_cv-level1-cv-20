{
 "cells": [
  {
   "cell_type": "markdown",
   "metadata": {},
   "source": [
    "# 데이터 요약\n",
    "train 데이터 구성: 2700명의 7개의 사진(18,900개의 데이터)  \n",
    "eval 데이터 구성: 12600개의 사진(1800명의 7개 사진으로 추측)  \n",
    "\n",
    "# train.csv 구성\n",
    " -  id: 사용에 큰 의미 없으므로 삭제해서 진행하기  \n",
    " - gender: 남,녀 두가지 클래스 존재  \n",
    " - race: 아시아인 하나만 존재하기 때문에 삭제해도 되는 것으로 여겨짐  \n",
    " - age: 43개의 나이가 존재  \n",
    " - path: 이미지 주소  \n",
    " =>gedner, race, age에는 null 값이 존재하지 않음\n",
    " \n",
    "## age 관련 EDA 결과\n",
    " - age: 원데이터 입력을 사용하면 U자형의 데이터 분포를 보여줌  \n",
    " - c_age: age데이터를 카테고리로 변경하여 시각화한 결과 60세 이상의 데이터가 다른 데이터들과 달리 수가 적음\n",
    "   (1281개, 1227개, 192개) -> (47.4%, 45.4%, 7.1%)로 60세 이상의 데이터가 턱없이 적음\n",
    "   \n",
    "## gender 관련 EDA 결과\n",
    " - 여성데이터: 1658\n",
    " - 남성데이터: 1042\n",
    " \n",
    "## gender & c_age 관련 EDA 결과\n",
    " - 30대 미만 -> 총계: 1,272명 남성: 540명, 여성: 732명 (42.4%, 57.5%)\n",
    " - 30대 이상 60대 미만 -> 총계: 1227명 남성: 410명, 여성: 817명(33.4%, 66.5%)\n",
    " - 60대 이상 -> 총계: 192명 남성: 83명, 여성: 109명(43.2%, 56.7%)"
   ]
  },
  {
   "cell_type": "code",
   "execution_count": 1,
   "metadata": {},
   "outputs": [],
   "source": [
    "#사용 목적: loc을 통한 데이터 변형을 원 데이터에 적용하면 warning 발생\n",
    "import warnings\n",
    "warnings.filterwarnings('ignore')"
   ]
  },
  {
   "cell_type": "code",
   "execution_count": 2,
   "metadata": {},
   "outputs": [],
   "source": [
    "import pandas as pd\n",
    "import numpy as np\n",
    "import matplotlib as mpl\n",
    "import matplotlib.pyplot as plt"
   ]
  },
  {
   "cell_type": "code",
   "execution_count": 3,
   "metadata": {},
   "outputs": [],
   "source": [
    "train = pd.read_csv('input/data/train/train.csv')\n",
    "eval = pd.read_csv('input/data/eval/info.csv')"
   ]
  },
  {
   "cell_type": "code",
   "execution_count": 4,
   "metadata": {},
   "outputs": [],
   "source": [
    "train_path= 'input/data/train/images/'\n",
    "eval_path= 'input/data/eval/images/'"
   ]
  },
  {
   "cell_type": "code",
   "execution_count": 5,
   "metadata": {},
   "outputs": [
    {
     "data": {
      "text/html": [
       "<div>\n",
       "<style scoped>\n",
       "    .dataframe tbody tr th:only-of-type {\n",
       "        vertical-align: middle;\n",
       "    }\n",
       "\n",
       "    .dataframe tbody tr th {\n",
       "        vertical-align: top;\n",
       "    }\n",
       "\n",
       "    .dataframe thead th {\n",
       "        text-align: right;\n",
       "    }\n",
       "</style>\n",
       "<table border=\"1\" class=\"dataframe\">\n",
       "  <thead>\n",
       "    <tr style=\"text-align: right;\">\n",
       "      <th></th>\n",
       "      <th>id</th>\n",
       "      <th>gender</th>\n",
       "      <th>race</th>\n",
       "      <th>age</th>\n",
       "      <th>path</th>\n",
       "    </tr>\n",
       "  </thead>\n",
       "  <tbody>\n",
       "    <tr>\n",
       "      <th>0</th>\n",
       "      <td>000001</td>\n",
       "      <td>female</td>\n",
       "      <td>Asian</td>\n",
       "      <td>45</td>\n",
       "      <td>000001_female_Asian_45</td>\n",
       "    </tr>\n",
       "    <tr>\n",
       "      <th>1</th>\n",
       "      <td>000002</td>\n",
       "      <td>female</td>\n",
       "      <td>Asian</td>\n",
       "      <td>52</td>\n",
       "      <td>000002_female_Asian_52</td>\n",
       "    </tr>\n",
       "    <tr>\n",
       "      <th>2</th>\n",
       "      <td>000004</td>\n",
       "      <td>male</td>\n",
       "      <td>Asian</td>\n",
       "      <td>54</td>\n",
       "      <td>000004_male_Asian_54</td>\n",
       "    </tr>\n",
       "    <tr>\n",
       "      <th>3</th>\n",
       "      <td>000005</td>\n",
       "      <td>female</td>\n",
       "      <td>Asian</td>\n",
       "      <td>58</td>\n",
       "      <td>000005_female_Asian_58</td>\n",
       "    </tr>\n",
       "    <tr>\n",
       "      <th>4</th>\n",
       "      <td>000006</td>\n",
       "      <td>female</td>\n",
       "      <td>Asian</td>\n",
       "      <td>59</td>\n",
       "      <td>000006_female_Asian_59</td>\n",
       "    </tr>\n",
       "  </tbody>\n",
       "</table>\n",
       "</div>"
      ],
      "text/plain": [
       "       id  gender   race  age                    path\n",
       "0  000001  female  Asian   45  000001_female_Asian_45\n",
       "1  000002  female  Asian   52  000002_female_Asian_52\n",
       "2  000004    male  Asian   54    000004_male_Asian_54\n",
       "3  000005  female  Asian   58  000005_female_Asian_58\n",
       "4  000006  female  Asian   59  000006_female_Asian_59"
      ]
     },
     "execution_count": 5,
     "metadata": {},
     "output_type": "execute_result"
    }
   ],
   "source": [
    "train.head()"
   ]
  },
  {
   "cell_type": "code",
   "execution_count": 6,
   "metadata": {},
   "outputs": [
    {
     "data": {
      "text/plain": [
       "(2700, 5)"
      ]
     },
     "execution_count": 6,
     "metadata": {},
     "output_type": "execute_result"
    }
   ],
   "source": [
    "train.shape #2,700*7 = 18,900"
   ]
  },
  {
   "cell_type": "code",
   "execution_count": 7,
   "metadata": {},
   "outputs": [
    {
     "data": {
      "text/html": [
       "<div>\n",
       "<style scoped>\n",
       "    .dataframe tbody tr th:only-of-type {\n",
       "        vertical-align: middle;\n",
       "    }\n",
       "\n",
       "    .dataframe tbody tr th {\n",
       "        vertical-align: top;\n",
       "    }\n",
       "\n",
       "    .dataframe thead th {\n",
       "        text-align: right;\n",
       "    }\n",
       "</style>\n",
       "<table border=\"1\" class=\"dataframe\">\n",
       "  <thead>\n",
       "    <tr style=\"text-align: right;\">\n",
       "      <th></th>\n",
       "      <th>ImageID</th>\n",
       "      <th>ans</th>\n",
       "    </tr>\n",
       "  </thead>\n",
       "  <tbody>\n",
       "    <tr>\n",
       "      <th>0</th>\n",
       "      <td>cbc5c6e168e63498590db46022617123f1fe1268.jpg</td>\n",
       "      <td>0</td>\n",
       "    </tr>\n",
       "    <tr>\n",
       "      <th>1</th>\n",
       "      <td>0e72482bf56b3581c081f7da2a6180b8792c7089.jpg</td>\n",
       "      <td>0</td>\n",
       "    </tr>\n",
       "    <tr>\n",
       "      <th>2</th>\n",
       "      <td>b549040c49190cedc41327748aeb197c1670f14d.jpg</td>\n",
       "      <td>0</td>\n",
       "    </tr>\n",
       "    <tr>\n",
       "      <th>3</th>\n",
       "      <td>4f9cb2a045c6d5b9e50ad3459ea7b791eb6e18bc.jpg</td>\n",
       "      <td>0</td>\n",
       "    </tr>\n",
       "    <tr>\n",
       "      <th>4</th>\n",
       "      <td>248428d9a4a5b6229a7081c32851b90cb8d38d0c.jpg</td>\n",
       "      <td>0</td>\n",
       "    </tr>\n",
       "  </tbody>\n",
       "</table>\n",
       "</div>"
      ],
      "text/plain": [
       "                                        ImageID  ans\n",
       "0  cbc5c6e168e63498590db46022617123f1fe1268.jpg    0\n",
       "1  0e72482bf56b3581c081f7da2a6180b8792c7089.jpg    0\n",
       "2  b549040c49190cedc41327748aeb197c1670f14d.jpg    0\n",
       "3  4f9cb2a045c6d5b9e50ad3459ea7b791eb6e18bc.jpg    0\n",
       "4  248428d9a4a5b6229a7081c32851b90cb8d38d0c.jpg    0"
      ]
     },
     "execution_count": 7,
     "metadata": {},
     "output_type": "execute_result"
    }
   ],
   "source": [
    "eval.head()"
   ]
  },
  {
   "cell_type": "code",
   "execution_count": 8,
   "metadata": {},
   "outputs": [
    {
     "data": {
      "text/plain": [
       "(12600, 2)"
      ]
     },
     "execution_count": 8,
     "metadata": {},
     "output_type": "execute_result"
    }
   ],
   "source": [
    "eval.shape #12600"
   ]
  },
  {
   "cell_type": "code",
   "execution_count": 9,
   "metadata": {},
   "outputs": [
    {
     "name": "stdout",
     "output_type": "stream",
     "text": [
      "      gender   race  age\n",
      "0     female  Asian   45\n",
      "1     female  Asian   52\n",
      "2       male  Asian   54\n",
      "3     female  Asian   58\n",
      "4     female  Asian   59\n",
      "...      ...    ...  ...\n",
      "2695    male  Asian   19\n",
      "2696    male  Asian   19\n",
      "2697    male  Asian   19\n",
      "2698    male  Asian   20\n",
      "2699    male  Asian   19\n",
      "\n",
      "[2700 rows x 3 columns]\n",
      "['female' 'male']\n",
      "['Asian']\n",
      "[45 52 54 58 59 56 57 55 50 49 53 51 40 25 48 29 35 37 19 42 24 23 30 18\n",
      " 22 26 21 27 60 20 28 44 34 39 43 33 41 47 46 36 38 32 31]\n"
     ]
    }
   ],
   "source": [
    "if 'path' in train.columns: \n",
    "    path = train['path']\n",
    "    train = train.drop(['id', 'path'], axis = 1)\n",
    "\n",
    "print(train)\n",
    "for col in train.columns:\n",
    "    print(train[col].unique())"
   ]
  },
  {
   "cell_type": "code",
   "execution_count": 10,
   "metadata": {},
   "outputs": [
    {
     "data": {
      "text/plain": [
       "gender    0\n",
       "race      0\n",
       "age       0\n",
       "dtype: int64"
      ]
     },
     "execution_count": 10,
     "metadata": {},
     "output_type": "execute_result"
    }
   ],
   "source": [
    "train.isnull().sum()"
   ]
  },
  {
   "cell_type": "code",
   "execution_count": 11,
   "metadata": {},
   "outputs": [],
   "source": [
    "#train['age'].value_counts()"
   ]
  },
  {
   "cell_type": "code",
   "execution_count": 12,
   "metadata": {},
   "outputs": [
    {
     "data": {
      "image/png": "[encoded data removed]",
      "text/plain": [
       "<Figure size 864x504 with 1 Axes>"
      ]
     },
     "metadata": {
      "needs_background": "light"
     },
     "output_type": "display_data"
    }
   ],
   "source": [
    "fig, axes = plt.subplots(1,1, figsize =(12,7))\n",
    "axes.bar(train['age'].value_counts().index, train['age'].value_counts())\n",
    "axes.set_xticks(train.age.unique())\n",
    "for idx, value in zip(train['age'].value_counts().index, train['age'].value_counts()):\n",
    "    axes.text(idx, value+10, s=value, ha = 'center', fontweight ='bold')\n",
    "plt.show()"
   ]
  },
  {
   "cell_type": "code",
   "execution_count": 13,
   "metadata": {},
   "outputs": [],
   "source": [
    "#loc을 통해 age의 값을 카테고리 범주로 변환\n",
    "train['c_age'] = train.age\n",
    "train.c_age.loc[train.c_age < 30] = 0\n",
    "train.c_age.loc[(train.c_age >= 30) & (train.c_age < 60)] = 1\n",
    "train.c_age.loc[train.c_age >= 60] = 2"
   ]
  },
  {
   "cell_type": "code",
   "execution_count": 14,
   "metadata": {},
   "outputs": [
    {
     "data": {
      "image/png": "[encoded data removed]",
      "text/plain": [
       "<Figure size 864x504 with 1 Axes>"
      ]
     },
     "metadata": {
      "needs_background": "light"
     },
     "output_type": "display_data"
    }
   ],
   "source": [
    "fig, axes = plt.subplots(1,1, figsize =(12,7))\n",
    "axes.bar(train['c_age'].value_counts().index, train['c_age'].value_counts())\n",
    "axes.set_xticks(train['c_age'].unique())\n",
    "for idx, value in zip(train['c_age'].value_counts().index, train['c_age'].value_counts()):\n",
    "    axes.text(idx, value+10, s=value, ha = 'center', fontweight ='bold')\n",
    "plt.show()"
   ]
  },
  {
   "cell_type": "code",
   "execution_count": 15,
   "metadata": {},
   "outputs": [
    {
     "data": {
      "image/png": "[encoded data removed]",
      "text/plain": [
       "<Figure size 864x504 with 1 Axes>"
      ]
     },
     "metadata": {
      "needs_background": "light"
     },
     "output_type": "display_data"
    }
   ],
   "source": [
    "fig, axes = plt.subplots(1,1, figsize =(12,7))\n",
    "axes.bar(train['c_age'].value_counts().index, train['c_age'].value_counts())\n",
    "axes.set_xticks(train['c_age'].unique())\n",
    "for idx, value in zip(train['c_age'].value_counts().index, train['c_age'].value_counts()):\n",
    "    axes.text(idx, value+10, s=value, ha = 'center', fontweight ='bold')\n",
    "plt.show()"
   ]
  },
  {
   "cell_type": "code",
   "execution_count": 16,
   "metadata": {},
   "outputs": [
    {
     "data": {
      "image/png": "[encoded data removed]",
      "text/plain": [
       "<Figure size 864x504 with 1 Axes>"
      ]
     },
     "metadata": {
      "needs_background": "light"
     },
     "output_type": "display_data"
    }
   ],
   "source": [
    "fig, axes = plt.subplots(1,1, figsize =(12,7))\n",
    "axes.bar(train['gender'].value_counts().index, train['gender'].value_counts())\n",
    "axes.set_xticks(train['gender'].unique())\n",
    "for idx, value in zip(train['gender'].value_counts().index, train['gender'].value_counts()):\n",
    "    axes.text(idx, value+10, s=value, ha = 'center', fontweight ='bold')\n",
    "plt.show()"
   ]
  },
  {
   "cell_type": "code",
   "execution_count": 19,
   "metadata": {},
   "outputs": [
    {
     "data": {
      "text/plain": [
       "1    817\n",
       "0    732\n",
       "2    109\n",
       "Name: c_age, dtype: int64"
      ]
     },
     "execution_count": 19,
     "metadata": {},
     "output_type": "execute_result"
    }
   ],
   "source": [
    "train['c_age'].loc[train['gender']== 'female'].value_counts()"
   ]
  },
  {
   "cell_type": "code",
   "execution_count": 27,
   "metadata": {},
   "outputs": [
    {
     "data": {
      "image/png": "[encoded data removed]",
      "text/plain": [
       "<Figure size 864x504 with 1 Axes>"
      ]
     },
     "metadata": {
      "needs_background": "light"
     },
     "output_type": "display_data"
    }
   ],
   "source": [
    "fig, ax = plt.subplots(1, 1, figsize=(12, 7))\n",
    "\n",
    "width=0.35\n",
    "\n",
    "ax.bar(train['c_age'].loc[train['gender']== 'male'].value_counts().index-width/2, train['c_age'].loc[train['gender']== 'male'].value_counts(), \n",
    "       color='royalblue',\n",
    "       width=width)\n",
    "\n",
    "    \n",
    "ax.bar(train['c_age'].loc[train['gender'] == 'female'].value_counts().index+width/2, train['c_age'].loc[train['gender'] == 'female'].value_counts(), \n",
    "       color='tomato',\n",
    "       width=width)\n",
    "for idx, value in zip(train['c_age'].loc[train['gender']== 'male'].value_counts().index, train['c_age'].loc[train['gender']== 'male'].value_counts()):\n",
    "    ax.text(idx-width/2, value+10, s=value, ha = 'center', fontweight ='bold')\n",
    "\n",
    "for idx, value in zip(train['c_age'].loc[train['gender'] == 'female'].value_counts().index, train['c_age'].loc[train['gender']== 'female'].value_counts()):\n",
    "    ax.text(idx+width/2, value+10, s=value, ha = 'center', fontweight ='bold')\n",
    "\n",
    "#ax.set_xticks(train['c_age'].value_counts().index)\n",
    "#ax.set_xticklabels(train['c_age'])\n",
    "    \n",
    "plt.show()"
   ]
  },
  {
   "cell_type": "code",
   "execution_count": null,
   "metadata": {},
   "outputs": [],
   "source": []
  }
 ],
 "metadata": {
  "kernelspec": {
   "display_name": "Python 3.8.8 64-bit",
   "language": "python",
   "name": "python3"
  },
  "language_info": {
   "codemirror_mode": {
    "name": "ipython",
    "version": 3
   },
   "file_extension": ".py",
   "mimetype": "text/x-python",
   "name": "python",
   "nbconvert_exporter": "python",
   "pygments_lexer": "ipython3",
   "version": "3.8.8"
  },
  "vscode": {
   "interpreter": {
    "hash": "5b6dd2b50ff67e1c20078873d4369b148afad3a952deadeab956ea4b7466025c"
   }
  }
 },
 "nbformat": 4,
 "nbformat_minor": 4
}
