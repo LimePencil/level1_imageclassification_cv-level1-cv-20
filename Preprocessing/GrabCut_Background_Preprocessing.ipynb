{
 "cells": [
  {
   "cell_type": "markdown",
   "id": "e80eb854-3ee8-40d8-8897-af35b9da05d0",
   "metadata": {},
   "source": [
    "# 코드 작성배경\n",
    "* 배경에 관한 정보를 공통적으로 제공하여 학습을 진행하면 성능이 더 높아지지 않을까?\n",
    "\n",
    "* 진행방식\n",
    " 1. 데이터셋 이미지를 가져온다.\n",
    " 2. 데이터셋 이미지를 opencv의 grabcut 알고리즘을 활용하여 background 제거\n",
    " 3. 처리된 데이터를 명시된 주소에 저장하여 새로운 데이터셋 생성"
   ]
  },
  {
   "cell_type": "markdown",
   "id": "cf7fcc7a-99b7-4822-bfde-e78f0c17d263",
   "metadata": {
    "tags": []
   },
   "source": [
    "# 오류 발생 시 진행해야 하는 부분\n",
    "* cv2 관련 오류 발생한 경우\n",
    "  1. 터미널에서 apt-get install libgl1-mesa-glx 실행 후 다시 코드 진행하기\n",
    "  2. pip install opencv-python을 통해 버전 업데이트\n",
    "\n",
    "* cv.imshow 관련\n",
    "  ipynb 환경에서는 imshow가 새창을 띠우도록 되어있기 때문에 띄우기 위해서는 별도의 설정 필요"
   ]
  },
  {
   "cell_type": "code",
   "execution_count": 1,
   "id": "c7057b9f-f84f-4c28-81c9-0311acef3bd1",
   "metadata": {},
   "outputs": [
    {
     "name": "stdout",
     "output_type": "stream",
     "text": [
      "Requirement already satisfied: opencv-python in /opt/conda/lib/python3.8/site-packages (4.5.1.48)\n",
      "Requirement already satisfied: numpy>=1.17.3 in /opt/conda/lib/python3.8/site-packages (from opencv-python) (1.19.2)\n"
     ]
    }
   ],
   "source": [
    "!pip install opencv-python"
   ]
  },
  {
   "cell_type": "code",
   "execution_count": 2,
   "id": "f830ed2b-2c5b-4f8d-989e-03157877f7e8",
   "metadata": {},
   "outputs": [],
   "source": [
    "#사용 목적: loc을 통한 데이터 변형을 원 데이터에 적용하면 warning 발생\n",
    "import warnings\n",
    "warnings.filterwarnings('ignore')"
   ]
  },
  {
   "cell_type": "code",
   "execution_count": 3,
   "id": "8ad48f01-03fb-44d4-bac7-c57f2a0eeae4",
   "metadata": {},
   "outputs": [],
   "source": [
    "import pandas as pd\n",
    "import numpy as np\n",
    "import matplotlib as mpl\n",
    "import matplotlib.pyplot as plt"
   ]
  },
  {
   "cell_type": "code",
   "execution_count": 4,
   "id": "0b792274-11c5-4187-aed1-af6a9bf8f6cc",
   "metadata": {},
   "outputs": [],
   "source": [
    "#영상 불러오기 위한 추가 라이브러리\n",
    "import os #파일 불러오기 위한 코드\n",
    "import cv2 #영상처리용 \n",
    "import matplotlib.pyplot as plt"
   ]
  },
  {
   "cell_type": "code",
   "execution_count": 5,
   "id": "a314614f-d251-4f3d-a6eb-1c222206c79a",
   "metadata": {},
   "outputs": [],
   "source": [
    "train = pd.read_csv('input/data/train/train.csv')\n",
    "eval = pd.read_csv('input/data/eval/info.csv')"
   ]
  },
  {
   "cell_type": "code",
   "execution_count": 6,
   "id": "36eb94e0-9d3d-4d74-a387-6329cee6e07f",
   "metadata": {},
   "outputs": [],
   "source": [
    "#학습 데이터 주소 설정(위치가 다른 경우 변경하기)\n",
    "train_path= 'input/data/train/images/'\n",
    "eval_path= 'input/data/eval/images/'"
   ]
  },
  {
   "cell_type": "markdown",
   "id": "35bb0f88-d0f8-4b23-8a64-51555cf0c9cd",
   "metadata": {
    "tags": []
   },
   "source": [
    "# GrabCut 적용방식 확인해보기"
   ]
  },
  {
   "cell_type": "code",
   "execution_count": 7,
   "id": "d4393187-4896-410f-9802-cc552da70b49",
   "metadata": {},
   "outputs": [],
   "source": [
    "for p in train['path']:\n",
    "    file_list = os.listdir(train_path + p)"
   ]
  },
  {
   "cell_type": "code",
   "execution_count": 8,
   "id": "87b65284-8324-4063-9ba8-355b1c8ff2fd",
   "metadata": {},
   "outputs": [
    {
     "data": {
      "text/plain": [
       "['normal.jpg',\n",
       " 'incorrect_mask.jpg',\n",
       " 'mask2.jpg',\n",
       " 'mask3.jpg',\n",
       " 'mask4.jpg',\n",
       " 'mask1.jpg',\n",
       " 'mask5.jpg']"
      ]
     },
     "execution_count": 8,
     "metadata": {},
     "output_type": "execute_result"
    }
   ],
   "source": [
    "#listdir 사용하면 .으로 시작하는 숨김파일로 가져오기 때문에 아래 코드를 통해 숨김파일이 아닌 파일만 가져올 수 있음\n",
    "file_list = [f for f in os.listdir(train_path + train['path'][0]) if not f.startswith('.')]\n",
    "file_list"
   ]
  },
  {
   "cell_type": "markdown",
   "id": "ea2ab436-17ba-44d3-88c0-762a8ade9d48",
   "metadata": {
    "tags": []
   },
   "source": [
    "## 원본 이미지 확인하기\n",
    " 1. 여러 장의 이미지를 같은 window에 출력하기 위해서 plt.subplot() 활용\n",
    " 2. file_list를 통해 각 폴더 내부의 이미지들을 가져와서 RGB를 BGR로 변경"
   ]
  },
  {
   "cell_type": "code",
   "execution_count": null,
   "id": "8e0ff595-0d87-4cda-b70b-8af0277ee15b",
   "metadata": {},
   "outputs": [],
   "source": [
    "fig, axes = plt.subplots(1, 7, sharex=True, sharey=True, figsize=(15,12))\n",
    "pos = 0\n",
    "for list in file_list:\n",
    "    img = cv2.imread(train_path + train['path'][1200] + '/'+ list, 1) #값을 변경하면서 다른 사람들의 사진도 확인\n",
    "    axes[pos].imshow(img[:,:,::-1]) #채널 변경을 통한 원래 이미지에 맞는 출력이 나오도록 설정\n",
    "    if img is None: #주소가 잘못된 경우를 알려주는 코드\n",
    "        print('Image load failed')\n",
    "        sys.exit()\n",
    "    pos += 1\n",
    "plt.show()"
   ]
  },
  {
   "cell_type": "markdown",
   "id": "fac4a8c4-aa9c-4865-bee9-25dc9e0fd03e",
   "metadata": {},
   "source": [
    "## GrabCut을 통한 배경 제거하기\n",
    " 1. 여러 장의 이미지를 같은 window에 출력하기 위해서 plt.subplot() 활용\n",
    " 2. file_list를 통해 각 폴더 내부의 이미지들을 가져와서 RGB를 BGR로 변경\n",
    " 3. Grabcut을 통해 배경에 대한 mask 파일 생성\n",
    " 4. mask 파일을 통해 배경 부분을 제거"
   ]
  },
  {
   "cell_type": "markdown",
   "id": "b4b28c81-262b-485a-b8b4-d21f070560f1",
   "metadata": {},
   "source": [
    "### GrabCut parameter 설명\n",
    " : graph cut 기반 영역 분할 알고리즘 -> 미니멀 컷 알고리즘 이용해서 영역 분할\n",
    " * cv2.grabCut(img, mask, rect, bgdModel, fgdModel, iterCount, mode=None)\n",
    " 1. img : 8비트 3채녈의 입력영상\n",
    " 2. mask : 입출력\n",
    " 3. rect : ROI 영역\n",
    " 4. bgdModel : 임시 배경 모델 행렬(같은 영상 처리 시에는 변경 금지)\n",
    " 5. fgdModel : 임시 전경 모델 행렬(같은 영상 처리 시에는 변경 금지)\n",
    " 6. iterCount : 결과 생성을 위한 반복 횟수\n",
    " 7. mode : cv2.GC_로 시작하는 모드 상수 ->현재 코드에서는 cv2.GC_INIT_WITH_RECT 모드로 초기화"
   ]
  },
  {
   "cell_type": "code",
   "execution_count": null,
   "id": "1a8350ec-cbcd-437a-981c-737b694e98c1",
   "metadata": {},
   "outputs": [],
   "source": [
    "fig, axes = plt.subplots(1, 7, sharex=True, sharey=True, figsize=(15,12))\n",
    "pos = 0\n",
    "bgdModel = np.zeros((1, 65), np.float64)\n",
    "fgdModel = np.zeros((1, 65), np.float64)\n",
    "rectangle = (50, 76, 250, 400)\n",
    "for list in file_list:\n",
    "   \n",
    "    img = cv2.imread(train_path + train['path'][1200] + '/'+ list, 1) #값을 변경하면서 다른 사람들의 사진도 확인\n",
    "    if img is None:\n",
    "        print('Image load failed')\n",
    "        sys.exit()\n",
    "    pos += 1\n",
    "    img = img[:,:,::-1] #채널 변경을 통한 원래 이미지에 맞는 출력이 나오도록 설정\n",
    "    mask = np.zeros(img.shape[:2], np.uint8)\n",
    "    cv2.grabCut(img, mask, rectangle, bgdModel, fgdModel, 5, cv2.GC_INIT_WITH_RECT)\n",
    "    mask_2 = np.where((mask==2) | (mask==0), 0, 1).astype('uint8')\n",
    "    image_rgb_nobg = img * mask_2[:, :, np.newaxis]\n",
    "    axes[pos].imshow(image_rgb_nobg) \n",
    "    \n",
    "plt.show()"
   ]
  },
  {
   "cell_type": "markdown",
   "id": "a577b264-887d-489b-9107-2ece7156e04e",
   "metadata": {},
   "source": [
    "## GrabCut을 통한 배경 제거하고 배경 색상 일원화하기\n",
    "  1. 여러 장의 이미지를 같은 window에 출력하기 위해서 plt.subplot() 활용\n",
    " 2. file_list를 통해 각 폴더 내부의 이미지들을 가져와서 RGB를 BGR로 변경\n",
    " 3. Grabcut을 통해 배경에 대한 mask 데이터 생성\n",
    " 4. mask 데이터를 통해 배경 부분을 제거\n",
    " 5. mask 데이터를 활욯하여 배경 부분을 동일한 색상으로 변경"
   ]
  },
  {
   "cell_type": "code",
   "execution_count": null,
   "id": "aa0b6c47-0332-4a2e-970d-ea5505fb5f00",
   "metadata": {},
   "outputs": [],
   "source": [
    "fig, axes = plt.subplots(1, 7, sharex=True, sharey=True, figsize=(15,12))\n",
    "pos = 0\n",
    "bgdModel = np.zeros((1, 65), np.float64)\n",
    "fgdModel = np.zeros((1, 65), np.float64)\n",
    "rectangle = (50, 76, 250, 400)\n",
    "for list in file_list:\n",
    "   \n",
    "    img = cv2.imread(train_path + train['path'][1200] + '/'+ list, 1)\n",
    "    if img is None:\n",
    "        print('Image load failed')\n",
    "        sys.exit()\n",
    "    pos += 1\n",
    "    img = img[:,:,::-1] #채널 변경을 통한 원래 이미지에 맞는 출력이 나오도록 설정\n",
    "    mask = np.zeros(img.shape[:2], np.uint8)\n",
    "    cv2.grabCut(img, mask, rectangle, bgdModel, fgdModel, 5, cv2.GC_INIT_WITH_RECT)\n",
    "    mask_2 = np.where((mask==2) | (mask==0), 0, 1).astype('uint8')\n",
    "    mask_3 = np.where((mask==2) | (mask==0), 128, 0).astype('uint8') #설정하는 값을 통해 배경 색상 변경 가능\n",
    "    image_rgb_nobg = img * mask_2[:, :, np.newaxis]\n",
    "    image_rgb_nobg = image_rgb_nobg + mask_3[:, :, np.newaxis]\n",
    "    axes[pos].imshow(image_rgb_nobg) \n",
    "    \n",
    "plt.show()"
   ]
  },
  {
   "cell_type": "code",
   "execution_count": 12,
   "id": "723edd73-375a-4602-946d-f2f7acaff16e",
   "metadata": {},
   "outputs": [],
   "source": [
    "#각 환경에 맞추어서 path를 변경할 필요가 있음\n",
    "if not os.path.exists('face_input'):\n",
    "    os.mkdir('face_input')\n",
    "if not os.path.exists('face_input/train'):\n",
    "    os.mkdir('face_input/train')\n",
    "if not os.path.exists('face_input/train/images'):\n",
    "    os.mkdir('face_input/train/images')"
   ]
  },
  {
   "cell_type": "code",
   "execution_count": null,
   "id": "7bc4a936-4ac8-455e-8131-7872b569e2ef",
   "metadata": {},
   "outputs": [],
   "source": [
    "#train 데이터 grabcut 적용 코드\n",
    "for specific_path in train['path']:\n",
    "    if not os.path.exists('face_input/train/images/' + specific_path):\n",
    "        os.mkdir('face_input/train/images/' + specific_path)\n",
    "    file_list = [f for f in os.listdir(train_path + specific_path) if not f.startswith('.')]\n",
    "    bgdModel = np.zeros((1, 65), np.float64)\n",
    "    fgdModel = np.zeros((1, 65), np.float64)\n",
    "    rectangle = (50, 76, 250, 400)\n",
    "    for list in file_list:\n",
    "        img = cv2.imread(train_path + specific_path + '/'+ list, 1) #데이터 읽어오는 부분\n",
    "        mask = np.zeros(img.shape[:2], np.uint8)\n",
    "        cv2.grabCut(img, mask, rectangle, bgdModel, fgdModel, 5, cv2.GC_INIT_WITH_RECT)\n",
    "        mask_2 = np.where((mask==2) | (mask==0), 0, 1).astype('uint8')\n",
    "        mask_3 = np.where((mask==2) | (mask==0), 128, 0).astype('uint8')\n",
    "        image_rgb_nobg = img * mask_2[:, :, np.newaxis]\n",
    "        image_rgb_nobg = image_rgb_nobg + mask_3[:, :, np.newaxis]\n",
    "        cv2.imwrite('face_input/train/images/' + specific_path + '/'+ list, image_rgb_nobg) #데이터 저장하는 부분"
   ]
  },
  {
   "cell_type": "code",
   "execution_count": null,
   "id": "4941e7a2-7a75-4c35-afa8-71bf67001c36",
   "metadata": {},
   "outputs": [],
   "source": []
  }
 ],
 "metadata": {
  "kernelspec": {
   "display_name": "Python 3.8.8 64-bit",
   "language": "python",
   "name": "python3"
  },
  "language_info": {
   "codemirror_mode": {
    "name": "ipython",
    "version": 3
   },
   "file_extension": ".py",
   "mimetype": "text/x-python",
   "name": "python",
   "nbconvert_exporter": "python",
   "pygments_lexer": "ipython3",
   "version": "3.8.8"
  },
  "vscode": {
   "interpreter": {
    "hash": "5b6dd2b50ff67e1c20078873d4369b148afad3a952deadeab956ea4b7466025c"
   }
  }
 },
 "nbformat": 4,
 "nbformat_minor": 5
}
