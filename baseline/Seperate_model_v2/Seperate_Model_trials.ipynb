{
 "cells": [
  {
   "cell_type": "markdown",
   "id": "bbca7ab9-d881-456b-941b-2c8b378c38cc",
   "metadata": {},
   "source": [
    "## Trial 1\n",
    "1. Transforms RandomFlip + ColorJitter\n",
    "2. resize: 192,256\n",
    "3. batch_size = 64\n",
    "4. Imbalanced DataSampler\n",
    "5. Resnet50\n",
    "[Val mask] f1 : 99.37%, acc : 99.60%, loss: 0.0072 || best f1 : 99.55%, best acc : 99.74%, best loss: 0.0055  \n",
    "[Val age] f1 : 77.65%, acc : 88.04%, loss: 0.22 || best f1 : 81.24%, best acc : 89.81%, best loss: 0.16  \n",
    "[Val gender] f1 : 97.02%, acc : 97.14%, loss: 0.047 || best f1 : 98.13%, best acc : 98.23%, best loss: 0.033  \n",
    "=> 0.7199 / 78.0635\n",
    "\n",
    "## Trial 2\n",
    "1. Transforms RandomFlip + ColorJitter + RandomCrop\n",
    "2. resize: 192,256\n",
    "3. batch_size = 64\n",
    "4. Imbalanced DataSampler\n",
    "5. Resnet50\n",
    "[Val mask] f1 : 99.58%, acc : 99.74%, loss: 0.0058 || best f1 : 99.69%, best acc : 99.81%, best loss: 0.0033    \n",
    "[Val age] f1 : 79.96%, acc : 89.05%, loss: 0.18 || best f1 : 81.94%, best acc : 90.98%, best loss:  0.1    \n",
    "[Val gender] f1 : 97.81%, acc : 97.91%, loss: 0.042 || best f1 : 98.14%, best acc : 98.23%, best loss: 0.035    \n",
    "\n",
    "## Trial 3\n",
    "1. Albumentations HorizontalFlip + ColorJitter + RandomCrop\n",
    "2. resize: 192,256\n",
    "3. batch_size = 64\n",
    "4. Imbalanced DataSampler\n",
    "5. Rembg preprocessed Dataset\n",
    "6. Resnet50\n",
    "[Val mask] f1 : 99.59%, acc : 99.76%, loss: 0.0048 || best f1 : 99.80%, best acc : 99.89%, best loss: 0.0039  \n",
    "[Val age] f1 : 79.70%, acc : 89.37%, loss: 0.22 || best f1 : 81.05%, best acc : 90.26%, best loss: 0.098  \n",
    "[Val gender] f1 : 96.85%, acc : 96.98%, loss: 0.045 || best f1 : 98.00%, best acc : 98.10%, best loss: 0.034  \n",
    "=> 0.6728 / 73.6508\n",
    "\n",
    "## Trial 4\n",
    "1. Albumentatoins HorizontalFlip + ColorJitter + RandomCrop\n",
    "2. resize: 192,256\n",
    "3. batch_size = 64\n",
    "4. Imbalanced DataSampler\n",
    "5. Rembg preprocessed Dataset\n",
    "6. Resnet50\n",
    "[Val mask] f1 : 99.59%, acc : 99.76%, loss: 0.0048 || best f1 : 99.80%, best acc : 99.89%, best loss: 0.0039  \n",
    "[Val age] f1 : 79.70%, acc : 89.37%, loss: 0.22 || best f1 : 81.05%, best acc : 90.26%, best loss: 0.098  \n",
    "[Val gender] f1 : 96.85%, acc : 96.98%, loss: 0.045 || best f1 : 98.00%, best acc : 98.10%, best loss: 0.034  \n",
    "=> 0.6382 / 72.1429\n",
    "\n",
    "## Trial 5\n",
    "1. Albumentations HorizontalFlip + CoarseDropOut + CLAHE + Colorjiiter\n",
    "2. resize: 192,256\n",
    "3. batch_size = 64\n",
    "4. Imbalanced DataSampler\n",
    "5. Resnet 18\n",
    "[Val mask] f1 : 99.54%, acc : 99.76%, loss: 0.0058 || best f1 : 99.73%, best acc : 99.84%, best loss: 0.0049  \n",
    "[Val age] f1 : 83.20%, acc : 91.38%, loss: 0.12 || best f1 : 83.20%, best acc : 91.38%, best loss: 0.087  \n",
    "[Val gender] f1 : 98.36%, acc : 98.47%, loss: 0.019 || best f1 : 98.40%, best acc : 98.52%, best loss: 0.017  \n",
    "=>0.6728 / 73.6508"
   ]
  },
  {
   "cell_type": "markdown",
   "id": "e78ba215-c769-405b-801b-88b340d1e5e2",
   "metadata": {},
   "source": [
    "* KeyError: Caught KeyError in DataLoader worker process 0. (OOM 에러)  \n",
    "* KeyError: 'You have to pass data to augmentations as named arguments, for example: aug(image=image)' (albumentations 에러)"
   ]
  },
  {
   "cell_type": "code",
   "execution_count": 3,
   "id": "5174462a-de71-4697-9caf-42d7a1bf5b10",
   "metadata": {},
   "outputs": [
    {
     "name": "stdout",
     "output_type": "stream",
     "text": [
      "Thu Nov  3 09:57:04 2022       \n",
      "+-----------------------------------------------------------------------------+\n",
      "| NVIDIA-SMI 450.80.02    Driver Version: 450.80.02    CUDA Version: 11.0     |\n",
      "|-------------------------------+----------------------+----------------------+\n",
      "| GPU  Name        Persistence-M| Bus-Id        Disp.A | Volatile Uncorr. ECC |\n",
      "| Fan  Temp  Perf  Pwr:Usage/Cap|         Memory-Usage | GPU-Util  Compute M. |\n",
      "|                               |                      |               MIG M. |\n",
      "|===============================+======================+======================|\n",
      "|   0  Tesla V100-PCIE...  Off  | 00000000:00:05.0 Off |                  Off |\n",
      "| N/A   35C    P0    36W / 250W |      0MiB / 32510MiB |      0%      Default |\n",
      "|                               |                      |                  N/A |\n",
      "+-------------------------------+----------------------+----------------------+\n",
      "                                                                               \n",
      "+-----------------------------------------------------------------------------+\n",
      "| Processes:                                                                  |\n",
      "|  GPU   GI   CI        PID   Type   Process name                  GPU Memory |\n",
      "|        ID   ID                                                   Usage      |\n",
      "|=============================================================================|\n",
      "|  No running processes found                                                 |\n",
      "+-----------------------------------------------------------------------------+\n"
     ]
    }
   ],
   "source": [
    "!nvidia-smi"
   ]
  },
  {
   "cell_type": "code",
   "execution_count": null,
   "id": "e7375d54-a3ec-4b1f-a609-7e729d253337",
   "metadata": {},
   "outputs": [],
   "source": []
  }
 ],
 "metadata": {
  "kernelspec": {
   "display_name": "Python 3 (ipykernel)",
   "language": "python",
   "name": "python3"
  },
  "language_info": {
   "codemirror_mode": {
    "name": "ipython",
    "version": 3
   },
   "file_extension": ".py",
   "mimetype": "text/x-python",
   "name": "python",
   "nbconvert_exporter": "python",
   "pygments_lexer": "ipython3",
   "version": "3.8.5"
  }
 },
 "nbformat": 4,
 "nbformat_minor": 5
}
